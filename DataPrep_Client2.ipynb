{
  "nbformat": 4,
  "nbformat_minor": 0,
  "metadata": {
    "colab": {
      "provenance": [],
      "include_colab_link": true
    },
    "kernelspec": {
      "name": "python3",
      "display_name": "Python 3"
    },
    "language_info": {
      "name": "python"
    }
  },
  "cells": [
    {
      "cell_type": "markdown",
      "metadata": {
        "id": "view-in-github",
        "colab_type": "text"
      },
      "source": [
        "<a href=\"https://colab.research.google.com/github/mshsu/data403-project1/blob/main/DataPrep_Client2.ipynb\" target=\"_parent\"><img src=\"https://colab.research.google.com/assets/colab-badge.svg\" alt=\"Open In Colab\"/></a>"
      ]
    },
    {
      "cell_type": "markdown",
      "source": [
        "# Libraries"
      ],
      "metadata": {
        "id": "d9h3lPlyRrA4"
      }
    },
    {
      "cell_type": "code",
      "source": [
        "!pip install sodapy"
      ],
      "metadata": {
        "colab": {
          "base_uri": "https://localhost:8080/"
        },
        "id": "l9MBKdjN8Rxr",
        "outputId": "80485c5e-ccc7-45c3-fb6b-ee27941d4cff"
      },
      "execution_count": 36,
      "outputs": [
        {
          "output_type": "stream",
          "name": "stdout",
          "text": [
            "Requirement already satisfied: sodapy in /usr/local/lib/python3.10/dist-packages (2.2.0)\n",
            "Requirement already satisfied: requests>=2.28.1 in /usr/local/lib/python3.10/dist-packages (from sodapy) (2.31.0)\n",
            "Requirement already satisfied: charset-normalizer<4,>=2 in /usr/local/lib/python3.10/dist-packages (from requests>=2.28.1->sodapy) (3.2.0)\n",
            "Requirement already satisfied: idna<4,>=2.5 in /usr/local/lib/python3.10/dist-packages (from requests>=2.28.1->sodapy) (3.4)\n",
            "Requirement already satisfied: urllib3<3,>=1.21.1 in /usr/local/lib/python3.10/dist-packages (from requests>=2.28.1->sodapy) (2.0.5)\n",
            "Requirement already satisfied: certifi>=2017.4.17 in /usr/local/lib/python3.10/dist-packages (from requests>=2.28.1->sodapy) (2023.7.22)\n"
          ]
        }
      ]
    },
    {
      "cell_type": "code",
      "execution_count": 37,
      "metadata": {
        "id": "yX-wFiRRLVeO"
      },
      "outputs": [],
      "source": [
        "import pandas as pd\n",
        "import holidays\n",
        "import datetime\n",
        "import requests\n",
        "from sodapy import Socrata\n",
        "import matplotlib.pyplot as plt"
      ]
    },
    {
      "cell_type": "markdown",
      "source": [
        "# Data Collection"
      ],
      "metadata": {
        "id": "IBjBpYPrRqkM"
      }
    },
    {
      "cell_type": "markdown",
      "source": [
        "## Liquor Sales"
      ],
      "metadata": {
        "id": "_4TZhrm1UBnj"
      }
    },
    {
      "cell_type": "code",
      "source": [
        "# date_extract_dow() - 0 = Sunday, 6 = Saturday\n",
        "client = Socrata(\"data.iowa.gov\", None)\n",
        "q = \"\"\"\n",
        "  select Date, date_extract_m(Date) as Month, date_extract_dow(Date) as DayOfWeek, name as StoreName, Zipcode, City, County, category_name, sale_liters, sale_dollars\n",
        "  LIMIT 10000\n",
        "\"\"\"\n",
        "results = client.get(\"m3tr-qhgy\", query=q)\n",
        "df_liquor = pd.DataFrame.from_records(results)"
      ],
      "metadata": {
        "colab": {
          "base_uri": "https://localhost:8080/"
        },
        "id": "_BI2yyJKLvcY",
        "outputId": "07b37672-1786-46f1-84d4-00cad3d3427d"
      },
      "execution_count": 38,
      "outputs": [
        {
          "output_type": "stream",
          "name": "stderr",
          "text": [
            "WARNING:root:Requests made without an app_token will be subject to strict throttling limits.\n"
          ]
        }
      ]
    },
    {
      "cell_type": "markdown",
      "source": [
        "## Colleges"
      ],
      "metadata": {
        "id": "oyuCAswyUE8k"
      }
    },
    {
      "cell_type": "code",
      "source": [
        "url = \"https://en.wikipedia.org/wiki/List_of_colleges_and_universities_in_Iowa\"\n",
        "df_colleges = pd.read_html(url)[0]"
      ],
      "metadata": {
        "id": "zKgJ4Rf9XqvX"
      },
      "execution_count": 39,
      "outputs": []
    },
    {
      "cell_type": "markdown",
      "source": [
        "# Data Cleaning"
      ],
      "metadata": {
        "id": "SBnvmqmQRvWj"
      }
    },
    {
      "cell_type": "markdown",
      "source": [
        "## Functions"
      ],
      "metadata": {
        "id": "6lVhi1huR4bs"
      }
    },
    {
      "cell_type": "code",
      "source": [
        "us_holidays = holidays.country_holidays('US', years=range(2012, 2024))\n",
        "def near_holi(date):\n",
        "  return int(bool(us_holidays[date - datetime.timedelta(weeks=2):date]))"
      ],
      "metadata": {
        "id": "CDknzPFJRg8h"
      },
      "execution_count": 40,
      "outputs": []
    },
    {
      "cell_type": "code",
      "source": [
        "def alc_type(alc):\n",
        "  if(\"VODKA\" in alc):\n",
        "    return(\"VODKA\")\n",
        "  elif(\"WHISKY\" in alc or \"WHISKIES\" in alc):\n",
        "    return(\"WHISKY\")\n",
        "  elif(\"RUM\" in alc):\n",
        "    return(\"RUM\")\n",
        "  elif(\"GIN\" in alc):\n",
        "    return(\"GIN\")\n",
        "  elif(\"TEQUILA\" in alc):\n",
        "    return('TEQUILA')\n",
        "  elif(\"BRANDIES\" in alc or \"BRANY\" in alc):\n",
        "    return(\"BRANDY\")\n",
        "  elif(\"SCHNAPPS\" in alc):\n",
        "    return(\"SCHNAPPS\")\n",
        "  elif(\"SPIRITS\" in alc):\n",
        "    return(\"SPIRITS\")\n",
        "  return(\"OTHER\")"
      ],
      "metadata": {
        "id": "xnRCtJzRfPAB"
      },
      "execution_count": 41,
      "outputs": []
    },
    {
      "cell_type": "code",
      "source": [
        "def alc_type_num(alc):\n",
        "  if(\"VODKA\" in alc):\n",
        "    return(1)\n",
        "  elif(\"WHISKY\" in alc or \"WHISKIES\" in alc):\n",
        "    return(2)\n",
        "  elif(\"RUM\" in alc):\n",
        "    return(3)\n",
        "  elif(\"GIN\" in alc):\n",
        "    return(4)\n",
        "  elif(\"TEQUILA\" in alc):\n",
        "    return(5)\n",
        "  elif(\"BRANDIES\" in alc or \"BRANY\" in alc):\n",
        "    return(6)\n",
        "  elif(\"SCHNAPPS\" in alc):\n",
        "    return(7)\n",
        "  elif(\"SPIRITS\" in alc):\n",
        "    return(8)\n",
        "  return(9)"
      ],
      "metadata": {
        "id": "qGRuPRWxlWLg"
      },
      "execution_count": 42,
      "outputs": []
    },
    {
      "cell_type": "markdown",
      "source": [
        "## Feature Creation/Manipulation"
      ],
      "metadata": {
        "id": "RJlDWnrTR68y"
      }
    },
    {
      "cell_type": "code",
      "source": [
        "df_colleges.rename(columns={\"Location(s)[note 2]\": \"City\"}, inplace=True)\n",
        "df_colleges = df_colleges[[\"Institution\", \"City\"]]\n",
        "df_colleges[\"City\"] = df_colleges[\"City\"].str.upper()"
      ],
      "metadata": {
        "id": "WOVMoU63YVvS"
      },
      "execution_count": 43,
      "outputs": []
    },
    {
      "cell_type": "code",
      "source": [
        "df_liquor[\"sale_liters\"] =df_liquor[\"sale_liters\"].astype(float)\n",
        "df_liquor[\"sale_dollars\"] = df_liquor[\"sale_dollars\"].astype(float)"
      ],
      "metadata": {
        "id": "UECEtU27dHPS"
      },
      "execution_count": 44,
      "outputs": []
    },
    {
      "cell_type": "code",
      "source": [
        "df_liquor[\"Date\"] = df_liquor[\"Date\"].map(lambda date: datetime.datetime.strptime(date, \"%Y-%m-%dT%H:%M:%S.%f\"))\n",
        "df_liquor[\"NearHoliday\"] = df_liquor[\"Date\"].map(near_holi)\n",
        "df_liquor[\"NearCollege\"] = df_liquor[\"City\"].map(lambda city: 1 if city in df_colleges[\"City\"].values else 0)\n",
        "df_liquor[\"CostPerLiter\"] = df_liquor[\"sale_dollars\"] / df_liquor[\"sale_liters\"]\n",
        "df_liquor[\"Category\"] = df_liquor[\"category_name\"].map(alc_type)\n",
        "df_liquor[\"CategoryNum\"] = df_liquor[\"category_name\"].map(alc_type_num)"
      ],
      "metadata": {
        "id": "a3FIC3vEQNsS"
      },
      "execution_count": 45,
      "outputs": []
    },
    {
      "cell_type": "code",
      "source": [
        "df_liquor.head()"
      ],
      "metadata": {
        "colab": {
          "base_uri": "https://localhost:8080/",
          "height": 486
        },
        "id": "0mRhE_pn-DAc",
        "outputId": "24d27a9c-020f-4ba8-b112-195427dc586e"
      },
      "execution_count": 56,
      "outputs": [
        {
          "output_type": "execute_result",
          "data": {
            "text/plain": [
              "        Date Month DayOfWeek                             StoreName Zipcode  \\\n",
              "0 2022-08-15     8         1                 LEO1  /  CEDAR RAPIDS   52402   \n",
              "1 2022-08-17     8         3     FAREWAY STORES #058 / ORANGE CITY   51041   \n",
              "2 2022-08-14     8         0         FAREWAY STORES #841 / RED OAK   51566   \n",
              "3 2022-08-16     8         2       WESTSIDE SPIRITS / CEDAR RAPIDS   52404   \n",
              "4 2022-08-15     8         1  HY-VEE WINE & SPIRITS #2 / DAVENPORT   52804   \n",
              "\n",
              "           City      County                   category_name  sale_liters  \\\n",
              "0  CEDAR RAPIDS        LINN         AMERICAN FLAVORED VODKA         0.10   \n",
              "1   ORANGE CITY       SIOUX               AMERICAN BRANDIES         9.00   \n",
              "2       RED OAK  MONTGOMERY  NEUTRAL GRAIN SPIRITS FLAVORED         0.40   \n",
              "3  CEDAR RAPIDS        LINN                BLENDED WHISKIES         0.75   \n",
              "4     DAVENPORT       SCOTT       STRAIGHT BOURBON WHISKIES         9.00   \n",
              "\n",
              "   sale_dollars  NearHoliday  NearCollege  CostPerLiter Category  CategoryNum  \n",
              "0         16.62            0            1        166.20    VODKA            1  \n",
              "1         85.68            0            1          9.52   BRANDY            6  \n",
              "2        105.04            0            0        262.60  SPIRITS            8  \n",
              "3         21.00            0            1         28.00   WHISKY            2  \n",
              "4        414.00            0            1         46.00   WHISKY            2  "
            ],
            "text/html": [
              "\n",
              "  <div id=\"df-0ede60ff-acd2-4204-b902-e80f0e90fa98\" class=\"colab-df-container\">\n",
              "    <div>\n",
              "<style scoped>\n",
              "    .dataframe tbody tr th:only-of-type {\n",
              "        vertical-align: middle;\n",
              "    }\n",
              "\n",
              "    .dataframe tbody tr th {\n",
              "        vertical-align: top;\n",
              "    }\n",
              "\n",
              "    .dataframe thead th {\n",
              "        text-align: right;\n",
              "    }\n",
              "</style>\n",
              "<table border=\"1\" class=\"dataframe\">\n",
              "  <thead>\n",
              "    <tr style=\"text-align: right;\">\n",
              "      <th></th>\n",
              "      <th>Date</th>\n",
              "      <th>Month</th>\n",
              "      <th>DayOfWeek</th>\n",
              "      <th>StoreName</th>\n",
              "      <th>Zipcode</th>\n",
              "      <th>City</th>\n",
              "      <th>County</th>\n",
              "      <th>category_name</th>\n",
              "      <th>sale_liters</th>\n",
              "      <th>sale_dollars</th>\n",
              "      <th>NearHoliday</th>\n",
              "      <th>NearCollege</th>\n",
              "      <th>CostPerLiter</th>\n",
              "      <th>Category</th>\n",
              "      <th>CategoryNum</th>\n",
              "    </tr>\n",
              "  </thead>\n",
              "  <tbody>\n",
              "    <tr>\n",
              "      <th>0</th>\n",
              "      <td>2022-08-15</td>\n",
              "      <td>8</td>\n",
              "      <td>1</td>\n",
              "      <td>LEO1  /  CEDAR RAPIDS</td>\n",
              "      <td>52402</td>\n",
              "      <td>CEDAR RAPIDS</td>\n",
              "      <td>LINN</td>\n",
              "      <td>AMERICAN FLAVORED VODKA</td>\n",
              "      <td>0.10</td>\n",
              "      <td>16.62</td>\n",
              "      <td>0</td>\n",
              "      <td>1</td>\n",
              "      <td>166.20</td>\n",
              "      <td>VODKA</td>\n",
              "      <td>1</td>\n",
              "    </tr>\n",
              "    <tr>\n",
              "      <th>1</th>\n",
              "      <td>2022-08-17</td>\n",
              "      <td>8</td>\n",
              "      <td>3</td>\n",
              "      <td>FAREWAY STORES #058 / ORANGE CITY</td>\n",
              "      <td>51041</td>\n",
              "      <td>ORANGE CITY</td>\n",
              "      <td>SIOUX</td>\n",
              "      <td>AMERICAN BRANDIES</td>\n",
              "      <td>9.00</td>\n",
              "      <td>85.68</td>\n",
              "      <td>0</td>\n",
              "      <td>1</td>\n",
              "      <td>9.52</td>\n",
              "      <td>BRANDY</td>\n",
              "      <td>6</td>\n",
              "    </tr>\n",
              "    <tr>\n",
              "      <th>2</th>\n",
              "      <td>2022-08-14</td>\n",
              "      <td>8</td>\n",
              "      <td>0</td>\n",
              "      <td>FAREWAY STORES #841 / RED OAK</td>\n",
              "      <td>51566</td>\n",
              "      <td>RED OAK</td>\n",
              "      <td>MONTGOMERY</td>\n",
              "      <td>NEUTRAL GRAIN SPIRITS FLAVORED</td>\n",
              "      <td>0.40</td>\n",
              "      <td>105.04</td>\n",
              "      <td>0</td>\n",
              "      <td>0</td>\n",
              "      <td>262.60</td>\n",
              "      <td>SPIRITS</td>\n",
              "      <td>8</td>\n",
              "    </tr>\n",
              "    <tr>\n",
              "      <th>3</th>\n",
              "      <td>2022-08-16</td>\n",
              "      <td>8</td>\n",
              "      <td>2</td>\n",
              "      <td>WESTSIDE SPIRITS / CEDAR RAPIDS</td>\n",
              "      <td>52404</td>\n",
              "      <td>CEDAR RAPIDS</td>\n",
              "      <td>LINN</td>\n",
              "      <td>BLENDED WHISKIES</td>\n",
              "      <td>0.75</td>\n",
              "      <td>21.00</td>\n",
              "      <td>0</td>\n",
              "      <td>1</td>\n",
              "      <td>28.00</td>\n",
              "      <td>WHISKY</td>\n",
              "      <td>2</td>\n",
              "    </tr>\n",
              "    <tr>\n",
              "      <th>4</th>\n",
              "      <td>2022-08-15</td>\n",
              "      <td>8</td>\n",
              "      <td>1</td>\n",
              "      <td>HY-VEE WINE &amp; SPIRITS #2 / DAVENPORT</td>\n",
              "      <td>52804</td>\n",
              "      <td>DAVENPORT</td>\n",
              "      <td>SCOTT</td>\n",
              "      <td>STRAIGHT BOURBON WHISKIES</td>\n",
              "      <td>9.00</td>\n",
              "      <td>414.00</td>\n",
              "      <td>0</td>\n",
              "      <td>1</td>\n",
              "      <td>46.00</td>\n",
              "      <td>WHISKY</td>\n",
              "      <td>2</td>\n",
              "    </tr>\n",
              "  </tbody>\n",
              "</table>\n",
              "</div>\n",
              "    <div class=\"colab-df-buttons\">\n",
              "\n",
              "  <div class=\"colab-df-container\">\n",
              "    <button class=\"colab-df-convert\" onclick=\"convertToInteractive('df-0ede60ff-acd2-4204-b902-e80f0e90fa98')\"\n",
              "            title=\"Convert this dataframe to an interactive table.\"\n",
              "            style=\"display:none;\">\n",
              "\n",
              "  <svg xmlns=\"http://www.w3.org/2000/svg\" height=\"24px\" viewBox=\"0 -960 960 960\">\n",
              "    <path d=\"M120-120v-720h720v720H120Zm60-500h600v-160H180v160Zm220 220h160v-160H400v160Zm0 220h160v-160H400v160ZM180-400h160v-160H180v160Zm440 0h160v-160H620v160ZM180-180h160v-160H180v160Zm440 0h160v-160H620v160Z\"/>\n",
              "  </svg>\n",
              "    </button>\n",
              "\n",
              "  <style>\n",
              "    .colab-df-container {\n",
              "      display:flex;\n",
              "      gap: 12px;\n",
              "    }\n",
              "\n",
              "    .colab-df-convert {\n",
              "      background-color: #E8F0FE;\n",
              "      border: none;\n",
              "      border-radius: 50%;\n",
              "      cursor: pointer;\n",
              "      display: none;\n",
              "      fill: #1967D2;\n",
              "      height: 32px;\n",
              "      padding: 0 0 0 0;\n",
              "      width: 32px;\n",
              "    }\n",
              "\n",
              "    .colab-df-convert:hover {\n",
              "      background-color: #E2EBFA;\n",
              "      box-shadow: 0px 1px 2px rgba(60, 64, 67, 0.3), 0px 1px 3px 1px rgba(60, 64, 67, 0.15);\n",
              "      fill: #174EA6;\n",
              "    }\n",
              "\n",
              "    .colab-df-buttons div {\n",
              "      margin-bottom: 4px;\n",
              "    }\n",
              "\n",
              "    [theme=dark] .colab-df-convert {\n",
              "      background-color: #3B4455;\n",
              "      fill: #D2E3FC;\n",
              "    }\n",
              "\n",
              "    [theme=dark] .colab-df-convert:hover {\n",
              "      background-color: #434B5C;\n",
              "      box-shadow: 0px 1px 3px 1px rgba(0, 0, 0, 0.15);\n",
              "      filter: drop-shadow(0px 1px 2px rgba(0, 0, 0, 0.3));\n",
              "      fill: #FFFFFF;\n",
              "    }\n",
              "  </style>\n",
              "\n",
              "    <script>\n",
              "      const buttonEl =\n",
              "        document.querySelector('#df-0ede60ff-acd2-4204-b902-e80f0e90fa98 button.colab-df-convert');\n",
              "      buttonEl.style.display =\n",
              "        google.colab.kernel.accessAllowed ? 'block' : 'none';\n",
              "\n",
              "      async function convertToInteractive(key) {\n",
              "        const element = document.querySelector('#df-0ede60ff-acd2-4204-b902-e80f0e90fa98');\n",
              "        const dataTable =\n",
              "          await google.colab.kernel.invokeFunction('convertToInteractive',\n",
              "                                                    [key], {});\n",
              "        if (!dataTable) return;\n",
              "\n",
              "        const docLinkHtml = 'Like what you see? Visit the ' +\n",
              "          '<a target=\"_blank\" href=https://colab.research.google.com/notebooks/data_table.ipynb>data table notebook</a>'\n",
              "          + ' to learn more about interactive tables.';\n",
              "        element.innerHTML = '';\n",
              "        dataTable['output_type'] = 'display_data';\n",
              "        await google.colab.output.renderOutput(dataTable, element);\n",
              "        const docLink = document.createElement('div');\n",
              "        docLink.innerHTML = docLinkHtml;\n",
              "        element.appendChild(docLink);\n",
              "      }\n",
              "    </script>\n",
              "  </div>\n",
              "\n",
              "\n",
              "<div id=\"df-a123e2db-789e-4f42-be03-71ad7188c4af\">\n",
              "  <button class=\"colab-df-quickchart\" onclick=\"quickchart('df-a123e2db-789e-4f42-be03-71ad7188c4af')\"\n",
              "            title=\"Suggest charts.\"\n",
              "            style=\"display:none;\">\n",
              "\n",
              "<svg xmlns=\"http://www.w3.org/2000/svg\" height=\"24px\"viewBox=\"0 0 24 24\"\n",
              "     width=\"24px\">\n",
              "    <g>\n",
              "        <path d=\"M19 3H5c-1.1 0-2 .9-2 2v14c0 1.1.9 2 2 2h14c1.1 0 2-.9 2-2V5c0-1.1-.9-2-2-2zM9 17H7v-7h2v7zm4 0h-2V7h2v10zm4 0h-2v-4h2v4z\"/>\n",
              "    </g>\n",
              "</svg>\n",
              "  </button>\n",
              "\n",
              "<style>\n",
              "  .colab-df-quickchart {\n",
              "      --bg-color: #E8F0FE;\n",
              "      --fill-color: #1967D2;\n",
              "      --hover-bg-color: #E2EBFA;\n",
              "      --hover-fill-color: #174EA6;\n",
              "      --disabled-fill-color: #AAA;\n",
              "      --disabled-bg-color: #DDD;\n",
              "  }\n",
              "\n",
              "  [theme=dark] .colab-df-quickchart {\n",
              "      --bg-color: #3B4455;\n",
              "      --fill-color: #D2E3FC;\n",
              "      --hover-bg-color: #434B5C;\n",
              "      --hover-fill-color: #FFFFFF;\n",
              "      --disabled-bg-color: #3B4455;\n",
              "      --disabled-fill-color: #666;\n",
              "  }\n",
              "\n",
              "  .colab-df-quickchart {\n",
              "    background-color: var(--bg-color);\n",
              "    border: none;\n",
              "    border-radius: 50%;\n",
              "    cursor: pointer;\n",
              "    display: none;\n",
              "    fill: var(--fill-color);\n",
              "    height: 32px;\n",
              "    padding: 0;\n",
              "    width: 32px;\n",
              "  }\n",
              "\n",
              "  .colab-df-quickchart:hover {\n",
              "    background-color: var(--hover-bg-color);\n",
              "    box-shadow: 0 1px 2px rgba(60, 64, 67, 0.3), 0 1px 3px 1px rgba(60, 64, 67, 0.15);\n",
              "    fill: var(--button-hover-fill-color);\n",
              "  }\n",
              "\n",
              "  .colab-df-quickchart-complete:disabled,\n",
              "  .colab-df-quickchart-complete:disabled:hover {\n",
              "    background-color: var(--disabled-bg-color);\n",
              "    fill: var(--disabled-fill-color);\n",
              "    box-shadow: none;\n",
              "  }\n",
              "\n",
              "  .colab-df-spinner {\n",
              "    border: 2px solid var(--fill-color);\n",
              "    border-color: transparent;\n",
              "    border-bottom-color: var(--fill-color);\n",
              "    animation:\n",
              "      spin 1s steps(1) infinite;\n",
              "  }\n",
              "\n",
              "  @keyframes spin {\n",
              "    0% {\n",
              "      border-color: transparent;\n",
              "      border-bottom-color: var(--fill-color);\n",
              "      border-left-color: var(--fill-color);\n",
              "    }\n",
              "    20% {\n",
              "      border-color: transparent;\n",
              "      border-left-color: var(--fill-color);\n",
              "      border-top-color: var(--fill-color);\n",
              "    }\n",
              "    30% {\n",
              "      border-color: transparent;\n",
              "      border-left-color: var(--fill-color);\n",
              "      border-top-color: var(--fill-color);\n",
              "      border-right-color: var(--fill-color);\n",
              "    }\n",
              "    40% {\n",
              "      border-color: transparent;\n",
              "      border-right-color: var(--fill-color);\n",
              "      border-top-color: var(--fill-color);\n",
              "    }\n",
              "    60% {\n",
              "      border-color: transparent;\n",
              "      border-right-color: var(--fill-color);\n",
              "    }\n",
              "    80% {\n",
              "      border-color: transparent;\n",
              "      border-right-color: var(--fill-color);\n",
              "      border-bottom-color: var(--fill-color);\n",
              "    }\n",
              "    90% {\n",
              "      border-color: transparent;\n",
              "      border-bottom-color: var(--fill-color);\n",
              "    }\n",
              "  }\n",
              "</style>\n",
              "\n",
              "  <script>\n",
              "    async function quickchart(key) {\n",
              "      const quickchartButtonEl =\n",
              "        document.querySelector('#' + key + ' button');\n",
              "      quickchartButtonEl.disabled = true;  // To prevent multiple clicks.\n",
              "      quickchartButtonEl.classList.add('colab-df-spinner');\n",
              "      try {\n",
              "        const charts = await google.colab.kernel.invokeFunction(\n",
              "            'suggestCharts', [key], {});\n",
              "      } catch (error) {\n",
              "        console.error('Error during call to suggestCharts:', error);\n",
              "      }\n",
              "      quickchartButtonEl.classList.remove('colab-df-spinner');\n",
              "      quickchartButtonEl.classList.add('colab-df-quickchart-complete');\n",
              "    }\n",
              "    (() => {\n",
              "      let quickchartButtonEl =\n",
              "        document.querySelector('#df-a123e2db-789e-4f42-be03-71ad7188c4af button');\n",
              "      quickchartButtonEl.style.display =\n",
              "        google.colab.kernel.accessAllowed ? 'block' : 'none';\n",
              "    })();\n",
              "  </script>\n",
              "</div>\n",
              "    </div>\n",
              "  </div>\n"
            ]
          },
          "metadata": {},
          "execution_count": 56
        }
      ]
    },
    {
      "cell_type": "markdown",
      "source": [
        "# Exploration"
      ],
      "metadata": {
        "id": "LYERm0Csk3xz"
      }
    },
    {
      "cell_type": "code",
      "source": [
        "df_liquor[\"Category\"].value_counts()"
      ],
      "metadata": {
        "colab": {
          "base_uri": "https://localhost:8080/"
        },
        "id": "YFvSrQl4Qu3Y",
        "outputId": "87936919-a4cb-40ee-a053-be97cf167c7b"
      },
      "execution_count": 46,
      "outputs": [
        {
          "output_type": "execute_result",
          "data": {
            "text/plain": [
              "WHISKY      2634\n",
              "VODKA       2554\n",
              "OTHER       1937\n",
              "RUM          794\n",
              "TEQUILA      617\n",
              "BRANDY       528\n",
              "SCHNAPPS     466\n",
              "GIN          259\n",
              "SPIRITS      211\n",
              "Name: Category, dtype: int64"
            ]
          },
          "metadata": {},
          "execution_count": 46
        }
      ]
    },
    {
      "cell_type": "code",
      "source": [
        "df_liquor[\"sale_dollars\"].describe()"
      ],
      "metadata": {
        "colab": {
          "base_uri": "https://localhost:8080/"
        },
        "id": "7EnGzZ2CiK7Z",
        "outputId": "5a98aed2-ae7f-4709-b803-8c3341119881"
      },
      "execution_count": 47,
      "outputs": [
        {
          "output_type": "execute_result",
          "data": {
            "text/plain": [
              "count    10000.000000\n",
              "mean       159.186278\n",
              "std        744.809471\n",
              "min          1.350000\n",
              "25%         42.225000\n",
              "50%         85.740000\n",
              "75%        162.000000\n",
              "max      41184.000000\n",
              "Name: sale_dollars, dtype: float64"
            ]
          },
          "metadata": {},
          "execution_count": 47
        }
      ]
    },
    {
      "cell_type": "code",
      "source": [
        "df_liquor[df_liquor[\"sale_dollars\"] <= 0]"
      ],
      "metadata": {
        "colab": {
          "base_uri": "https://localhost:8080/",
          "height": 53
        },
        "id": "pIwFfZZ1iOig",
        "outputId": "dad0b4f5-4644-42bb-ab6f-723177afefcb"
      },
      "execution_count": 48,
      "outputs": [
        {
          "output_type": "execute_result",
          "data": {
            "text/plain": [
              "Empty DataFrame\n",
              "Columns: [Date, Month, DayOfWeek, StoreName, Zipcode, City, County, category_name, sale_liters, sale_dollars, NearHoliday, NearCollege, CostPerLiter, Category, CategoryNum]\n",
              "Index: []"
            ],
            "text/html": [
              "\n",
              "  <div id=\"df-cd51a815-553d-4856-b07b-4f7a66e7d2f2\" class=\"colab-df-container\">\n",
              "    <div>\n",
              "<style scoped>\n",
              "    .dataframe tbody tr th:only-of-type {\n",
              "        vertical-align: middle;\n",
              "    }\n",
              "\n",
              "    .dataframe tbody tr th {\n",
              "        vertical-align: top;\n",
              "    }\n",
              "\n",
              "    .dataframe thead th {\n",
              "        text-align: right;\n",
              "    }\n",
              "</style>\n",
              "<table border=\"1\" class=\"dataframe\">\n",
              "  <thead>\n",
              "    <tr style=\"text-align: right;\">\n",
              "      <th></th>\n",
              "      <th>Date</th>\n",
              "      <th>Month</th>\n",
              "      <th>DayOfWeek</th>\n",
              "      <th>StoreName</th>\n",
              "      <th>Zipcode</th>\n",
              "      <th>City</th>\n",
              "      <th>County</th>\n",
              "      <th>category_name</th>\n",
              "      <th>sale_liters</th>\n",
              "      <th>sale_dollars</th>\n",
              "      <th>NearHoliday</th>\n",
              "      <th>NearCollege</th>\n",
              "      <th>CostPerLiter</th>\n",
              "      <th>Category</th>\n",
              "      <th>CategoryNum</th>\n",
              "    </tr>\n",
              "  </thead>\n",
              "  <tbody>\n",
              "  </tbody>\n",
              "</table>\n",
              "</div>\n",
              "    <div class=\"colab-df-buttons\">\n",
              "\n",
              "  <div class=\"colab-df-container\">\n",
              "    <button class=\"colab-df-convert\" onclick=\"convertToInteractive('df-cd51a815-553d-4856-b07b-4f7a66e7d2f2')\"\n",
              "            title=\"Convert this dataframe to an interactive table.\"\n",
              "            style=\"display:none;\">\n",
              "\n",
              "  <svg xmlns=\"http://www.w3.org/2000/svg\" height=\"24px\" viewBox=\"0 -960 960 960\">\n",
              "    <path d=\"M120-120v-720h720v720H120Zm60-500h600v-160H180v160Zm220 220h160v-160H400v160Zm0 220h160v-160H400v160ZM180-400h160v-160H180v160Zm440 0h160v-160H620v160ZM180-180h160v-160H180v160Zm440 0h160v-160H620v160Z\"/>\n",
              "  </svg>\n",
              "    </button>\n",
              "\n",
              "  <style>\n",
              "    .colab-df-container {\n",
              "      display:flex;\n",
              "      gap: 12px;\n",
              "    }\n",
              "\n",
              "    .colab-df-convert {\n",
              "      background-color: #E8F0FE;\n",
              "      border: none;\n",
              "      border-radius: 50%;\n",
              "      cursor: pointer;\n",
              "      display: none;\n",
              "      fill: #1967D2;\n",
              "      height: 32px;\n",
              "      padding: 0 0 0 0;\n",
              "      width: 32px;\n",
              "    }\n",
              "\n",
              "    .colab-df-convert:hover {\n",
              "      background-color: #E2EBFA;\n",
              "      box-shadow: 0px 1px 2px rgba(60, 64, 67, 0.3), 0px 1px 3px 1px rgba(60, 64, 67, 0.15);\n",
              "      fill: #174EA6;\n",
              "    }\n",
              "\n",
              "    .colab-df-buttons div {\n",
              "      margin-bottom: 4px;\n",
              "    }\n",
              "\n",
              "    [theme=dark] .colab-df-convert {\n",
              "      background-color: #3B4455;\n",
              "      fill: #D2E3FC;\n",
              "    }\n",
              "\n",
              "    [theme=dark] .colab-df-convert:hover {\n",
              "      background-color: #434B5C;\n",
              "      box-shadow: 0px 1px 3px 1px rgba(0, 0, 0, 0.15);\n",
              "      filter: drop-shadow(0px 1px 2px rgba(0, 0, 0, 0.3));\n",
              "      fill: #FFFFFF;\n",
              "    }\n",
              "  </style>\n",
              "\n",
              "    <script>\n",
              "      const buttonEl =\n",
              "        document.querySelector('#df-cd51a815-553d-4856-b07b-4f7a66e7d2f2 button.colab-df-convert');\n",
              "      buttonEl.style.display =\n",
              "        google.colab.kernel.accessAllowed ? 'block' : 'none';\n",
              "\n",
              "      async function convertToInteractive(key) {\n",
              "        const element = document.querySelector('#df-cd51a815-553d-4856-b07b-4f7a66e7d2f2');\n",
              "        const dataTable =\n",
              "          await google.colab.kernel.invokeFunction('convertToInteractive',\n",
              "                                                    [key], {});\n",
              "        if (!dataTable) return;\n",
              "\n",
              "        const docLinkHtml = 'Like what you see? Visit the ' +\n",
              "          '<a target=\"_blank\" href=https://colab.research.google.com/notebooks/data_table.ipynb>data table notebook</a>'\n",
              "          + ' to learn more about interactive tables.';\n",
              "        element.innerHTML = '';\n",
              "        dataTable['output_type'] = 'display_data';\n",
              "        await google.colab.output.renderOutput(dataTable, element);\n",
              "        const docLink = document.createElement('div');\n",
              "        docLink.innerHTML = docLinkHtml;\n",
              "        element.appendChild(docLink);\n",
              "      }\n",
              "    </script>\n",
              "  </div>\n",
              "\n",
              "    </div>\n",
              "  </div>\n"
            ]
          },
          "metadata": {},
          "execution_count": 48
        }
      ]
    },
    {
      "cell_type": "code",
      "source": [
        "df_liquor[\"sale_liters\"].describe()"
      ],
      "metadata": {
        "colab": {
          "base_uri": "https://localhost:8080/"
        },
        "id": "M_0PPOsbiC88",
        "outputId": "12028dea-029d-4e31-acae-3d0ccd7b38bd"
      },
      "execution_count": 49,
      "outputs": [
        {
          "output_type": "execute_result",
          "data": {
            "text/plain": [
              "count    10000.000000\n",
              "mean         8.377621\n",
              "std         44.116273\n",
              "min          0.020000\n",
              "25%          1.500000\n",
              "50%          4.500000\n",
              "75%          9.000000\n",
              "max       2835.000000\n",
              "Name: sale_liters, dtype: float64"
            ]
          },
          "metadata": {},
          "execution_count": 49
        }
      ]
    },
    {
      "cell_type": "code",
      "source": [
        "df_liquor[df_liquor[\"sale_liters\"] <= 0]"
      ],
      "metadata": {
        "colab": {
          "base_uri": "https://localhost:8080/",
          "height": 53
        },
        "id": "aBQTtuYniVZy",
        "outputId": "4a45d1bf-fb56-4429-d3b4-19d21cf81d14"
      },
      "execution_count": 50,
      "outputs": [
        {
          "output_type": "execute_result",
          "data": {
            "text/plain": [
              "Empty DataFrame\n",
              "Columns: [Date, Month, DayOfWeek, StoreName, Zipcode, City, County, category_name, sale_liters, sale_dollars, NearHoliday, NearCollege, CostPerLiter, Category, CategoryNum]\n",
              "Index: []"
            ],
            "text/html": [
              "\n",
              "  <div id=\"df-f6b35de2-24f4-44d1-8b19-474b18c49cb2\" class=\"colab-df-container\">\n",
              "    <div>\n",
              "<style scoped>\n",
              "    .dataframe tbody tr th:only-of-type {\n",
              "        vertical-align: middle;\n",
              "    }\n",
              "\n",
              "    .dataframe tbody tr th {\n",
              "        vertical-align: top;\n",
              "    }\n",
              "\n",
              "    .dataframe thead th {\n",
              "        text-align: right;\n",
              "    }\n",
              "</style>\n",
              "<table border=\"1\" class=\"dataframe\">\n",
              "  <thead>\n",
              "    <tr style=\"text-align: right;\">\n",
              "      <th></th>\n",
              "      <th>Date</th>\n",
              "      <th>Month</th>\n",
              "      <th>DayOfWeek</th>\n",
              "      <th>StoreName</th>\n",
              "      <th>Zipcode</th>\n",
              "      <th>City</th>\n",
              "      <th>County</th>\n",
              "      <th>category_name</th>\n",
              "      <th>sale_liters</th>\n",
              "      <th>sale_dollars</th>\n",
              "      <th>NearHoliday</th>\n",
              "      <th>NearCollege</th>\n",
              "      <th>CostPerLiter</th>\n",
              "      <th>Category</th>\n",
              "      <th>CategoryNum</th>\n",
              "    </tr>\n",
              "  </thead>\n",
              "  <tbody>\n",
              "  </tbody>\n",
              "</table>\n",
              "</div>\n",
              "    <div class=\"colab-df-buttons\">\n",
              "\n",
              "  <div class=\"colab-df-container\">\n",
              "    <button class=\"colab-df-convert\" onclick=\"convertToInteractive('df-f6b35de2-24f4-44d1-8b19-474b18c49cb2')\"\n",
              "            title=\"Convert this dataframe to an interactive table.\"\n",
              "            style=\"display:none;\">\n",
              "\n",
              "  <svg xmlns=\"http://www.w3.org/2000/svg\" height=\"24px\" viewBox=\"0 -960 960 960\">\n",
              "    <path d=\"M120-120v-720h720v720H120Zm60-500h600v-160H180v160Zm220 220h160v-160H400v160Zm0 220h160v-160H400v160ZM180-400h160v-160H180v160Zm440 0h160v-160H620v160ZM180-180h160v-160H180v160Zm440 0h160v-160H620v160Z\"/>\n",
              "  </svg>\n",
              "    </button>\n",
              "\n",
              "  <style>\n",
              "    .colab-df-container {\n",
              "      display:flex;\n",
              "      gap: 12px;\n",
              "    }\n",
              "\n",
              "    .colab-df-convert {\n",
              "      background-color: #E8F0FE;\n",
              "      border: none;\n",
              "      border-radius: 50%;\n",
              "      cursor: pointer;\n",
              "      display: none;\n",
              "      fill: #1967D2;\n",
              "      height: 32px;\n",
              "      padding: 0 0 0 0;\n",
              "      width: 32px;\n",
              "    }\n",
              "\n",
              "    .colab-df-convert:hover {\n",
              "      background-color: #E2EBFA;\n",
              "      box-shadow: 0px 1px 2px rgba(60, 64, 67, 0.3), 0px 1px 3px 1px rgba(60, 64, 67, 0.15);\n",
              "      fill: #174EA6;\n",
              "    }\n",
              "\n",
              "    .colab-df-buttons div {\n",
              "      margin-bottom: 4px;\n",
              "    }\n",
              "\n",
              "    [theme=dark] .colab-df-convert {\n",
              "      background-color: #3B4455;\n",
              "      fill: #D2E3FC;\n",
              "    }\n",
              "\n",
              "    [theme=dark] .colab-df-convert:hover {\n",
              "      background-color: #434B5C;\n",
              "      box-shadow: 0px 1px 3px 1px rgba(0, 0, 0, 0.15);\n",
              "      filter: drop-shadow(0px 1px 2px rgba(0, 0, 0, 0.3));\n",
              "      fill: #FFFFFF;\n",
              "    }\n",
              "  </style>\n",
              "\n",
              "    <script>\n",
              "      const buttonEl =\n",
              "        document.querySelector('#df-f6b35de2-24f4-44d1-8b19-474b18c49cb2 button.colab-df-convert');\n",
              "      buttonEl.style.display =\n",
              "        google.colab.kernel.accessAllowed ? 'block' : 'none';\n",
              "\n",
              "      async function convertToInteractive(key) {\n",
              "        const element = document.querySelector('#df-f6b35de2-24f4-44d1-8b19-474b18c49cb2');\n",
              "        const dataTable =\n",
              "          await google.colab.kernel.invokeFunction('convertToInteractive',\n",
              "                                                    [key], {});\n",
              "        if (!dataTable) return;\n",
              "\n",
              "        const docLinkHtml = 'Like what you see? Visit the ' +\n",
              "          '<a target=\"_blank\" href=https://colab.research.google.com/notebooks/data_table.ipynb>data table notebook</a>'\n",
              "          + ' to learn more about interactive tables.';\n",
              "        element.innerHTML = '';\n",
              "        dataTable['output_type'] = 'display_data';\n",
              "        await google.colab.output.renderOutput(dataTable, element);\n",
              "        const docLink = document.createElement('div');\n",
              "        docLink.innerHTML = docLinkHtml;\n",
              "        element.appendChild(docLink);\n",
              "      }\n",
              "    </script>\n",
              "  </div>\n",
              "\n",
              "    </div>\n",
              "  </div>\n"
            ]
          },
          "metadata": {},
          "execution_count": 50
        }
      ]
    },
    {
      "cell_type": "code",
      "source": [
        "df_liquor.plot.scatter(x=\"sale_dollars\", y=\"sale_liters\", c=df_liquor[\"NearHoliday\"], colormap=\"bwr\")"
      ],
      "metadata": {
        "colab": {
          "base_uri": "https://localhost:8080/",
          "height": 472
        },
        "id": "Omy4ua4_i7IL",
        "outputId": "942a4259-2624-46fe-e2ce-333f9ce2a417"
      },
      "execution_count": 51,
      "outputs": [
        {
          "output_type": "execute_result",
          "data": {
            "text/plain": [
              "<Axes: xlabel='sale_dollars', ylabel='sale_liters'>"
            ]
          },
          "metadata": {},
          "execution_count": 51
        },
        {
          "output_type": "display_data",
          "data": {
            "text/plain": [
              "<Figure size 640x480 with 2 Axes>"
            ],
            "image/png": "[encoded data removed]"
          },
          "metadata": {}
        }
      ]
    },
    {
      "cell_type": "code",
      "source": [
        "df_liquor.plot.scatter(x=\"sale_dollars\", y=\"sale_liters\", c=df_liquor[\"NearCollege\"], colormap=\"bwr\")"
      ],
      "metadata": {
        "colab": {
          "base_uri": "https://localhost:8080/",
          "height": 472
        },
        "id": "q_p4uatlkx29",
        "outputId": "402ab6ac-922d-4174-a4bc-15122f6743ec"
      },
      "execution_count": 52,
      "outputs": [
        {
          "output_type": "execute_result",
          "data": {
            "text/plain": [
              "<Axes: xlabel='sale_dollars', ylabel='sale_liters'>"
            ]
          },
          "metadata": {},
          "execution_count": 52
        },
        {
          "output_type": "display_data",
          "data": {
            "text/plain": [
              "<Figure size 640x480 with 2 Axes>"
            ],
            "image/png": "[encoded data removed]"
          },
          "metadata": {}
        }
      ]
    },
    {
      "cell_type": "code",
      "source": [
        "df_liquor.plot.scatter(x=\"sale_dollars\", y=\"sale_liters\", c=df_liquor[\"CategoryNum\"], colormap=\"jet\")"
      ],
      "metadata": {
        "colab": {
          "base_uri": "https://localhost:8080/",
          "height": 472
        },
        "id": "BZsCuQ2Pk2Zs",
        "outputId": "616cabfc-f302-47e6-da6a-498137c28a2f"
      },
      "execution_count": 53,
      "outputs": [
        {
          "output_type": "execute_result",
          "data": {
            "text/plain": [
              "<Axes: xlabel='sale_dollars', ylabel='sale_liters'>"
            ]
          },
          "metadata": {},
          "execution_count": 53
        },
        {
          "output_type": "display_data",
          "data": {
            "text/plain": [
              "<Figure size 640x480 with 2 Axes>"
            ],
            "image/png": "[encoded data removed]"
          },
          "metadata": {}
        }
      ]
    },
    {
      "cell_type": "markdown",
      "source": [
        "# Sources"
      ],
      "metadata": {
        "id": "NoI_OBR-RlZ1"
      }
    },
    {
      "cell_type": "markdown",
      "source": [
        "US Holidays: https://pypi.org/project/holidays/"
      ],
      "metadata": {
        "id": "uAfQBj47T5UE"
      }
    },
    {
      "cell_type": "code",
      "source": [
        "\n",
        "us_holidays = holidays.country_holidays('US', years=2012)\n",
        "for day in us_holidays.items():\n",
        "    print(day)"
      ],
      "metadata": {
        "colab": {
          "base_uri": "https://localhost:8080/"
        },
        "id": "lEVWOr99RnIX",
        "outputId": "5cedfebd-47b2-43c2-d078-c522297856c3"
      },
      "execution_count": 54,
      "outputs": [
        {
          "output_type": "stream",
          "name": "stdout",
          "text": [
            "(datetime.date(2012, 1, 16), 'Martin Luther King Jr. Day')\n",
            "(datetime.date(2012, 2, 20), \"Washington's Birthday\")\n",
            "(datetime.date(2012, 10, 8), 'Columbus Day')\n",
            "(datetime.date(2012, 1, 1), \"New Year's Day\")\n",
            "(datetime.date(2012, 1, 2), \"New Year's Day (Observed)\")\n",
            "(datetime.date(2012, 5, 28), 'Memorial Day')\n",
            "(datetime.date(2012, 7, 4), 'Independence Day')\n",
            "(datetime.date(2012, 9, 3), 'Labor Day')\n",
            "(datetime.date(2012, 11, 11), 'Veterans Day')\n",
            "(datetime.date(2012, 11, 12), 'Veterans Day (Observed)')\n",
            "(datetime.date(2012, 11, 22), 'Thanksgiving')\n",
            "(datetime.date(2012, 12, 25), 'Christmas Day')\n"
          ]
        }
      ]
    },
    {
      "cell_type": "markdown",
      "source": [
        "Iowa Colleges: https://en.wikipedia.org/wiki/List_of_colleges_and_universities_in_Iowa"
      ],
      "metadata": {
        "id": "DLGXk31IT2Xr"
      }
    }
  ]
}