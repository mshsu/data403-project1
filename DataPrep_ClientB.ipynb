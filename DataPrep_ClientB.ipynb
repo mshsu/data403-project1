{
  "nbformat": 4,
  "nbformat_minor": 0,
  "metadata": {
    "colab": {
      "provenance": [],
      "include_colab_link": true
    },
    "kernelspec": {
      "name": "python3",
      "display_name": "Python 3"
    },
    "language_info": {
      "name": "python"
    }
  },
  "cells": [
    {
      "cell_type": "markdown",
      "metadata": {
        "id": "view-in-github",
        "colab_type": "text"
      },
      "source": [
        "<a href=\"https://colab.research.google.com/github/mshsu/data403-project1/blob/main/DataPrep_ClientB.ipynb\" target=\"_parent\"><img src=\"https://colab.research.google.com/assets/colab-badge.svg\" alt=\"Open In Colab\"/></a>"
      ]
    },
    {
      "cell_type": "markdown",
      "source": [
        "# Libraries"
      ],
      "metadata": {
        "id": "d9h3lPlyRrA4"
      }
    },
    {
      "cell_type": "code",
      "source": [
        "!pip install sodapy"
      ],
      "metadata": {
        "colab": {
          "base_uri": "https://localhost:8080/"
        },
        "id": "l9MBKdjN8Rxr",
        "outputId": "47141ffe-0dcb-4328-cc11-a2468414f6b3"
      },
      "execution_count": 302,
      "outputs": [
        {
          "output_type": "stream",
          "name": "stdout",
          "text": [
            "Requirement already satisfied: sodapy in /usr/local/lib/python3.10/dist-packages (2.2.0)\n",
            "Requirement already satisfied: requests>=2.28.1 in /usr/local/lib/python3.10/dist-packages (from sodapy) (2.31.0)\n",
            "Requirement already satisfied: charset-normalizer<4,>=2 in /usr/local/lib/python3.10/dist-packages (from requests>=2.28.1->sodapy) (3.2.0)\n",
            "Requirement already satisfied: idna<4,>=2.5 in /usr/local/lib/python3.10/dist-packages (from requests>=2.28.1->sodapy) (3.4)\n",
            "Requirement already satisfied: urllib3<3,>=1.21.1 in /usr/local/lib/python3.10/dist-packages (from requests>=2.28.1->sodapy) (2.0.5)\n",
            "Requirement already satisfied: certifi>=2017.4.17 in /usr/local/lib/python3.10/dist-packages (from requests>=2.28.1->sodapy) (2023.7.22)\n"
          ]
        }
      ]
    },
    {
      "cell_type": "code",
      "execution_count": 303,
      "metadata": {
        "id": "yX-wFiRRLVeO"
      },
      "outputs": [],
      "source": [
        "import pandas as pd\n",
        "import holidays\n",
        "import datetime\n",
        "import requests\n",
        "from sodapy import Socrata\n",
        "import matplotlib.pyplot as plt"
      ]
    },
    {
      "cell_type": "markdown",
      "source": [
        "# Data Collection"
      ],
      "metadata": {
        "id": "IBjBpYPrRqkM"
      }
    },
    {
      "cell_type": "markdown",
      "source": [
        "## Liquor Sales"
      ],
      "metadata": {
        "id": "_4TZhrm1UBnj"
      }
    },
    {
      "cell_type": "code",
      "source": [
        "# date_extract_dow() - 0 = Sunday, 6 = Saturday\n",
        "client = Socrata(\"data.iowa.gov\", None)\n",
        "q = \"\"\"\n",
        "  select Date, date_extract_m(Date) as Month, date_extract_dow(Date) as DayOfWeek, name as StoreName, Zipcode, City, County, category_name, sale_liters, sale_dollars\n",
        "  LIMIT 50000\n",
        "\"\"\"\n",
        "results = client.get(\"m3tr-qhgy\", query=q)\n",
        "df_liquor = pd.DataFrame.from_records(results)"
      ],
      "metadata": {
        "colab": {
          "base_uri": "https://localhost:8080/"
        },
        "id": "_BI2yyJKLvcY",
        "outputId": "666ea228-9340-47e5-8db3-483de94cfb53"
      },
      "execution_count": 304,
      "outputs": [
        {
          "output_type": "stream",
          "name": "stderr",
          "text": [
            "WARNING:root:Requests made without an app_token will be subject to strict throttling limits.\n"
          ]
        }
      ]
    },
    {
      "cell_type": "markdown",
      "source": [
        "## Colleges"
      ],
      "metadata": {
        "id": "oyuCAswyUE8k"
      }
    },
    {
      "cell_type": "code",
      "source": [
        "url = \"https://en.wikipedia.org/wiki/List_of_colleges_and_universities_in_Iowa\"\n",
        "df_colleges = pd.read_html(url)[0]"
      ],
      "metadata": {
        "id": "zKgJ4Rf9XqvX"
      },
      "execution_count": 305,
      "outputs": []
    },
    {
      "cell_type": "markdown",
      "source": [
        "# Data Cleaning"
      ],
      "metadata": {
        "id": "SBnvmqmQRvWj"
      }
    },
    {
      "cell_type": "markdown",
      "source": [
        "## Functions"
      ],
      "metadata": {
        "id": "6lVhi1huR4bs"
      }
    },
    {
      "cell_type": "code",
      "source": [
        "us_holidays = holidays.country_holidays('US', years=range(2012, 2024))\n",
        "def near_holi(date):\n",
        "  return int(bool(us_holidays[date - datetime.timedelta(weeks=2):date]))"
      ],
      "metadata": {
        "id": "CDknzPFJRg8h"
      },
      "execution_count": 306,
      "outputs": []
    },
    {
      "cell_type": "code",
      "source": [
        "def alc_type_cat(alc):\n",
        "    alc_categories = {\n",
        "        \"VODKA\": [\"VODKA\"],\n",
        "        \"WHISKY\": [\"WHISKY\", \"WHISKIES\"],\n",
        "        \"RUM\": [\"RUM\"],\n",
        "        \"GIN\": [\"GIN\"],\n",
        "        \"TEQUILA\": [\"TEQUILA\"],\n",
        "        \"BRANDY\": [\"BRANDIES\", \"BRANY\"],\n",
        "        \"SCHNAPPS\": [\"SCHNAPPS\"],\n",
        "        \"SPIRITS\": [\"SPIRITS\"],\n",
        "    }\n",
        "\n",
        "    for category, keywords in alc_categories.items():\n",
        "        for keyword in keywords:\n",
        "          try:\n",
        "            if keyword in alc:\n",
        "                return category\n",
        "          except:\n",
        "            return \"OTHER\"\n",
        "    return \"OTHER\""
      ],
      "metadata": {
        "id": "xnRCtJzRfPAB"
      },
      "execution_count": 307,
      "outputs": []
    },
    {
      "cell_type": "code",
      "source": [
        "def classify_college_size(enrollment):\n",
        "    if enrollment > 10000:\n",
        "        return \"Large\"\n",
        "    elif enrollment > 3000:\n",
        "        return \"Midsize\"\n",
        "    else:\n",
        "        return \"Small\""
      ],
      "metadata": {
        "id": "n0eOfcHHG-Oo"
      },
      "execution_count": 308,
      "outputs": []
    },
    {
      "cell_type": "markdown",
      "source": [
        "## Feature Creation/Manipulation"
      ],
      "metadata": {
        "id": "RJlDWnrTR68y"
      }
    },
    {
      "cell_type": "code",
      "source": [
        "df_colleges.rename(columns={\"Location(s)[note 2]\": \"City\"}, inplace=True)\n",
        "df_colleges.rename(columns={\"Enrollment[7] (spring 2012)\": \"Enrollment\"}, inplace=True)\n",
        "df_colleges = df_colleges[[\"Institution\", \"City\", \"Enrollment\"]]\n",
        "df_colleges[\"City\"] = df_colleges[\"City\"].str.upper()"
      ],
      "metadata": {
        "id": "WOVMoU63YVvS"
      },
      "execution_count": 309,
      "outputs": []
    },
    {
      "cell_type": "code",
      "source": [
        "df_liquor[\"sale_liters\"] =df_liquor[\"sale_liters\"].astype(float)\n",
        "df_liquor[\"sale_dollars\"] = df_liquor[\"sale_dollars\"].astype(float)"
      ],
      "metadata": {
        "id": "UECEtU27dHPS"
      },
      "execution_count": 310,
      "outputs": []
    },
    {
      "cell_type": "code",
      "source": [
        "df_liquor = df_liquor[df_liquor[\"sale_dollars\"] > 0]\n",
        "df_liquor = df_liquor[df_liquor[\"sale_dollars\"] > 0]\n",
        "df_liquor.dropna(subset=['City', 'Zipcode', 'County'])"
      ],
      "metadata": {
        "colab": {
          "base_uri": "https://localhost:8080/",
          "height": 597
        },
        "id": "c7U2dLDoX3KK",
        "outputId": "0a0a0e18-d295-454d-d05b-6ddd0d339b62"
      },
      "execution_count": 311,
      "outputs": [
        {
          "output_type": "execute_result",
          "data": {
            "text/plain": [
              "                          Date Month DayOfWeek  \\\n",
              "0      2021-08-25T00:00:00.000     8         3   \n",
              "1      2021-08-19T00:00:00.000     8         4   \n",
              "2      2021-08-26T00:00:00.000     8         4   \n",
              "3      2021-08-24T00:00:00.000     8         2   \n",
              "4      2021-08-24T00:00:00.000     8         2   \n",
              "...                        ...   ...       ...   \n",
              "49995  2021-08-27T00:00:00.000     8         5   \n",
              "49996  2021-08-30T00:00:00.000     8         1   \n",
              "49997  2021-08-30T00:00:00.000     8         1   \n",
              "49998  2021-08-30T00:00:00.000     8         1   \n",
              "49999  2021-08-27T00:00:00.000     8         5   \n",
              "\n",
              "                                StoreName Zipcode            City  \\\n",
              "0              HY-VEE DRUGSTORE / OTTUMWA   52501         OTTUMWA   \n",
              "1                       ADVENTURELAND INN   50009         ALTOONA   \n",
              "2                CLEAR LAKE PAYLESS FOODS   50428       CLEARLAKE   \n",
              "3                         HY-VEE / GRIMES   50111          GRIMES   \n",
              "4      FAREWAY STORES #467 / MARSHALLTOWN   50158    MARSHALLTOWN   \n",
              "...                                   ...     ...             ...   \n",
              "49995        HY-VEE FOOD STORE / CLARINDA   51632        CLARINDA   \n",
              "49996                       LOT-A-SPIRITS   52722      BETTENDORF   \n",
              "49997                 SAC CITY FOOD PRIDE   50583        SAC CITY   \n",
              "49998     FAREWAY STORES #888 / JEFFERSON   50129       JEFFERSON   \n",
              "49999                          MEGA SAVER   51501  COUNCIL BLUFFS   \n",
              "\n",
              "              County                   category_name  sale_liters  \\\n",
              "0            WAPELLO                      SPICED RUM         3.00   \n",
              "1               POLK         IMPORTED FLAVORED VODKA        36.00   \n",
              "2        CERRO GORDO                 IMPORTED VODKAS         9.00   \n",
              "3               POLK                   COCKTAILS/RTD        10.50   \n",
              "4           MARSHALL  NEUTRAL GRAIN SPIRITS FLAVORED         2.25   \n",
              "...              ...                             ...          ...   \n",
              "49995           PAGE                    FLAVORED RUM        12.00   \n",
              "49996          SCOTT              SINGLE MALT SCOTCH         0.75   \n",
              "49997            SAC               CANADIAN WHISKIES         5.25   \n",
              "49998         GREENE                   COCKTAILS/RTD        10.50   \n",
              "49999  POTTAWATTAMIE       STRAIGHT BOURBON WHISKIES        18.00   \n",
              "\n",
              "       sale_dollars  \n",
              "0             60.00  \n",
              "1           1228.68  \n",
              "2             89.88  \n",
              "3             85.80  \n",
              "4             45.00  \n",
              "...             ...  \n",
              "49995        197.88  \n",
              "49996         51.75  \n",
              "49997         65.25  \n",
              "49998         78.66  \n",
              "49999        378.00  \n",
              "\n",
              "[49964 rows x 10 columns]"
            ],
            "text/html": [
              "\n",
              "  <div id=\"df-65a6e580-75d5-4c7e-b6a8-7eed226d985b\" class=\"colab-df-container\">\n",
              "    <div>\n",
              "<style scoped>\n",
              "    .dataframe tbody tr th:only-of-type {\n",
              "        vertical-align: middle;\n",
              "    }\n",
              "\n",
              "    .dataframe tbody tr th {\n",
              "        vertical-align: top;\n",
              "    }\n",
              "\n",
              "    .dataframe thead th {\n",
              "        text-align: right;\n",
              "    }\n",
              "</style>\n",
              "<table border=\"1\" class=\"dataframe\">\n",
              "  <thead>\n",
              "    <tr style=\"text-align: right;\">\n",
              "      <th></th>\n",
              "      <th>Date</th>\n",
              "      <th>Month</th>\n",
              "      <th>DayOfWeek</th>\n",
              "      <th>StoreName</th>\n",
              "      <th>Zipcode</th>\n",
              "      <th>City</th>\n",
              "      <th>County</th>\n",
              "      <th>category_name</th>\n",
              "      <th>sale_liters</th>\n",
              "      <th>sale_dollars</th>\n",
              "    </tr>\n",
              "  </thead>\n",
              "  <tbody>\n",
              "    <tr>\n",
              "      <th>0</th>\n",
              "      <td>2021-08-25T00:00:00.000</td>\n",
              "      <td>8</td>\n",
              "      <td>3</td>\n",
              "      <td>HY-VEE DRUGSTORE / OTTUMWA</td>\n",
              "      <td>52501</td>\n",
              "      <td>OTTUMWA</td>\n",
              "      <td>WAPELLO</td>\n",
              "      <td>SPICED RUM</td>\n",
              "      <td>3.00</td>\n",
              "      <td>60.00</td>\n",
              "    </tr>\n",
              "    <tr>\n",
              "      <th>1</th>\n",
              "      <td>2021-08-19T00:00:00.000</td>\n",
              "      <td>8</td>\n",
              "      <td>4</td>\n",
              "      <td>ADVENTURELAND INN</td>\n",
              "      <td>50009</td>\n",
              "      <td>ALTOONA</td>\n",
              "      <td>POLK</td>\n",
              "      <td>IMPORTED FLAVORED VODKA</td>\n",
              "      <td>36.00</td>\n",
              "      <td>1228.68</td>\n",
              "    </tr>\n",
              "    <tr>\n",
              "      <th>2</th>\n",
              "      <td>2021-08-26T00:00:00.000</td>\n",
              "      <td>8</td>\n",
              "      <td>4</td>\n",
              "      <td>CLEAR LAKE PAYLESS FOODS</td>\n",
              "      <td>50428</td>\n",
              "      <td>CLEARLAKE</td>\n",
              "      <td>CERRO GORDO</td>\n",
              "      <td>IMPORTED VODKAS</td>\n",
              "      <td>9.00</td>\n",
              "      <td>89.88</td>\n",
              "    </tr>\n",
              "    <tr>\n",
              "      <th>3</th>\n",
              "      <td>2021-08-24T00:00:00.000</td>\n",
              "      <td>8</td>\n",
              "      <td>2</td>\n",
              "      <td>HY-VEE / GRIMES</td>\n",
              "      <td>50111</td>\n",
              "      <td>GRIMES</td>\n",
              "      <td>POLK</td>\n",
              "      <td>COCKTAILS/RTD</td>\n",
              "      <td>10.50</td>\n",
              "      <td>85.80</td>\n",
              "    </tr>\n",
              "    <tr>\n",
              "      <th>4</th>\n",
              "      <td>2021-08-24T00:00:00.000</td>\n",
              "      <td>8</td>\n",
              "      <td>2</td>\n",
              "      <td>FAREWAY STORES #467 / MARSHALLTOWN</td>\n",
              "      <td>50158</td>\n",
              "      <td>MARSHALLTOWN</td>\n",
              "      <td>MARSHALL</td>\n",
              "      <td>NEUTRAL GRAIN SPIRITS FLAVORED</td>\n",
              "      <td>2.25</td>\n",
              "      <td>45.00</td>\n",
              "    </tr>\n",
              "    <tr>\n",
              "      <th>...</th>\n",
              "      <td>...</td>\n",
              "      <td>...</td>\n",
              "      <td>...</td>\n",
              "      <td>...</td>\n",
              "      <td>...</td>\n",
              "      <td>...</td>\n",
              "      <td>...</td>\n",
              "      <td>...</td>\n",
              "      <td>...</td>\n",
              "      <td>...</td>\n",
              "    </tr>\n",
              "    <tr>\n",
              "      <th>49995</th>\n",
              "      <td>2021-08-27T00:00:00.000</td>\n",
              "      <td>8</td>\n",
              "      <td>5</td>\n",
              "      <td>HY-VEE FOOD STORE / CLARINDA</td>\n",
              "      <td>51632</td>\n",
              "      <td>CLARINDA</td>\n",
              "      <td>PAGE</td>\n",
              "      <td>FLAVORED RUM</td>\n",
              "      <td>12.00</td>\n",
              "      <td>197.88</td>\n",
              "    </tr>\n",
              "    <tr>\n",
              "      <th>49996</th>\n",
              "      <td>2021-08-30T00:00:00.000</td>\n",
              "      <td>8</td>\n",
              "      <td>1</td>\n",
              "      <td>LOT-A-SPIRITS</td>\n",
              "      <td>52722</td>\n",
              "      <td>BETTENDORF</td>\n",
              "      <td>SCOTT</td>\n",
              "      <td>SINGLE MALT SCOTCH</td>\n",
              "      <td>0.75</td>\n",
              "      <td>51.75</td>\n",
              "    </tr>\n",
              "    <tr>\n",
              "      <th>49997</th>\n",
              "      <td>2021-08-30T00:00:00.000</td>\n",
              "      <td>8</td>\n",
              "      <td>1</td>\n",
              "      <td>SAC CITY FOOD PRIDE</td>\n",
              "      <td>50583</td>\n",
              "      <td>SAC CITY</td>\n",
              "      <td>SAC</td>\n",
              "      <td>CANADIAN WHISKIES</td>\n",
              "      <td>5.25</td>\n",
              "      <td>65.25</td>\n",
              "    </tr>\n",
              "    <tr>\n",
              "      <th>49998</th>\n",
              "      <td>2021-08-30T00:00:00.000</td>\n",
              "      <td>8</td>\n",
              "      <td>1</td>\n",
              "      <td>FAREWAY STORES #888 / JEFFERSON</td>\n",
              "      <td>50129</td>\n",
              "      <td>JEFFERSON</td>\n",
              "      <td>GREENE</td>\n",
              "      <td>COCKTAILS/RTD</td>\n",
              "      <td>10.50</td>\n",
              "      <td>78.66</td>\n",
              "    </tr>\n",
              "    <tr>\n",
              "      <th>49999</th>\n",
              "      <td>2021-08-27T00:00:00.000</td>\n",
              "      <td>8</td>\n",
              "      <td>5</td>\n",
              "      <td>MEGA SAVER</td>\n",
              "      <td>51501</td>\n",
              "      <td>COUNCIL BLUFFS</td>\n",
              "      <td>POTTAWATTAMIE</td>\n",
              "      <td>STRAIGHT BOURBON WHISKIES</td>\n",
              "      <td>18.00</td>\n",
              "      <td>378.00</td>\n",
              "    </tr>\n",
              "  </tbody>\n",
              "</table>\n",
              "<p>49964 rows × 10 columns</p>\n",
              "</div>\n",
              "    <div class=\"colab-df-buttons\">\n",
              "\n",
              "  <div class=\"colab-df-container\">\n",
              "    <button class=\"colab-df-convert\" onclick=\"convertToInteractive('df-65a6e580-75d5-4c7e-b6a8-7eed226d985b')\"\n",
              "            title=\"Convert this dataframe to an interactive table.\"\n",
              "            style=\"display:none;\">\n",
              "\n",
              "  <svg xmlns=\"http://www.w3.org/2000/svg\" height=\"24px\" viewBox=\"0 -960 960 960\">\n",
              "    <path d=\"M120-120v-720h720v720H120Zm60-500h600v-160H180v160Zm220 220h160v-160H400v160Zm0 220h160v-160H400v160ZM180-400h160v-160H180v160Zm440 0h160v-160H620v160ZM180-180h160v-160H180v160Zm440 0h160v-160H620v160Z\"/>\n",
              "  </svg>\n",
              "    </button>\n",
              "\n",
              "  <style>\n",
              "    .colab-df-container {\n",
              "      display:flex;\n",
              "      gap: 12px;\n",
              "    }\n",
              "\n",
              "    .colab-df-convert {\n",
              "      background-color: #E8F0FE;\n",
              "      border: none;\n",
              "      border-radius: 50%;\n",
              "      cursor: pointer;\n",
              "      display: none;\n",
              "      fill: #1967D2;\n",
              "      height: 32px;\n",
              "      padding: 0 0 0 0;\n",
              "      width: 32px;\n",
              "    }\n",
              "\n",
              "    .colab-df-convert:hover {\n",
              "      background-color: #E2EBFA;\n",
              "      box-shadow: 0px 1px 2px rgba(60, 64, 67, 0.3), 0px 1px 3px 1px rgba(60, 64, 67, 0.15);\n",
              "      fill: #174EA6;\n",
              "    }\n",
              "\n",
              "    .colab-df-buttons div {\n",
              "      margin-bottom: 4px;\n",
              "    }\n",
              "\n",
              "    [theme=dark] .colab-df-convert {\n",
              "      background-color: #3B4455;\n",
              "      fill: #D2E3FC;\n",
              "    }\n",
              "\n",
              "    [theme=dark] .colab-df-convert:hover {\n",
              "      background-color: #434B5C;\n",
              "      box-shadow: 0px 1px 3px 1px rgba(0, 0, 0, 0.15);\n",
              "      filter: drop-shadow(0px 1px 2px rgba(0, 0, 0, 0.3));\n",
              "      fill: #FFFFFF;\n",
              "    }\n",
              "  </style>\n",
              "\n",
              "    <script>\n",
              "      const buttonEl =\n",
              "        document.querySelector('#df-65a6e580-75d5-4c7e-b6a8-7eed226d985b button.colab-df-convert');\n",
              "      buttonEl.style.display =\n",
              "        google.colab.kernel.accessAllowed ? 'block' : 'none';\n",
              "\n",
              "      async function convertToInteractive(key) {\n",
              "        const element = document.querySelector('#df-65a6e580-75d5-4c7e-b6a8-7eed226d985b');\n",
              "        const dataTable =\n",
              "          await google.colab.kernel.invokeFunction('convertToInteractive',\n",
              "                                                    [key], {});\n",
              "        if (!dataTable) return;\n",
              "\n",
              "        const docLinkHtml = 'Like what you see? Visit the ' +\n",
              "          '<a target=\"_blank\" href=https://colab.research.google.com/notebooks/data_table.ipynb>data table notebook</a>'\n",
              "          + ' to learn more about interactive tables.';\n",
              "        element.innerHTML = '';\n",
              "        dataTable['output_type'] = 'display_data';\n",
              "        await google.colab.output.renderOutput(dataTable, element);\n",
              "        const docLink = document.createElement('div');\n",
              "        docLink.innerHTML = docLinkHtml;\n",
              "        element.appendChild(docLink);\n",
              "      }\n",
              "    </script>\n",
              "  </div>\n",
              "\n",
              "\n",
              "<div id=\"df-1b7c31e4-6c83-404f-967e-10e9e3ce20f5\">\n",
              "  <button class=\"colab-df-quickchart\" onclick=\"quickchart('df-1b7c31e4-6c83-404f-967e-10e9e3ce20f5')\"\n",
              "            title=\"Suggest charts.\"\n",
              "            style=\"display:none;\">\n",
              "\n",
              "<svg xmlns=\"http://www.w3.org/2000/svg\" height=\"24px\"viewBox=\"0 0 24 24\"\n",
              "     width=\"24px\">\n",
              "    <g>\n",
              "        <path d=\"M19 3H5c-1.1 0-2 .9-2 2v14c0 1.1.9 2 2 2h14c1.1 0 2-.9 2-2V5c0-1.1-.9-2-2-2zM9 17H7v-7h2v7zm4 0h-2V7h2v10zm4 0h-2v-4h2v4z\"/>\n",
              "    </g>\n",
              "</svg>\n",
              "  </button>\n",
              "\n",
              "<style>\n",
              "  .colab-df-quickchart {\n",
              "      --bg-color: #E8F0FE;\n",
              "      --fill-color: #1967D2;\n",
              "      --hover-bg-color: #E2EBFA;\n",
              "      --hover-fill-color: #174EA6;\n",
              "      --disabled-fill-color: #AAA;\n",
              "      --disabled-bg-color: #DDD;\n",
              "  }\n",
              "\n",
              "  [theme=dark] .colab-df-quickchart {\n",
              "      --bg-color: #3B4455;\n",
              "      --fill-color: #D2E3FC;\n",
              "      --hover-bg-color: #434B5C;\n",
              "      --hover-fill-color: #FFFFFF;\n",
              "      --disabled-bg-color: #3B4455;\n",
              "      --disabled-fill-color: #666;\n",
              "  }\n",
              "\n",
              "  .colab-df-quickchart {\n",
              "    background-color: var(--bg-color);\n",
              "    border: none;\n",
              "    border-radius: 50%;\n",
              "    cursor: pointer;\n",
              "    display: none;\n",
              "    fill: var(--fill-color);\n",
              "    height: 32px;\n",
              "    padding: 0;\n",
              "    width: 32px;\n",
              "  }\n",
              "\n",
              "  .colab-df-quickchart:hover {\n",
              "    background-color: var(--hover-bg-color);\n",
              "    box-shadow: 0 1px 2px rgba(60, 64, 67, 0.3), 0 1px 3px 1px rgba(60, 64, 67, 0.15);\n",
              "    fill: var(--button-hover-fill-color);\n",
              "  }\n",
              "\n",
              "  .colab-df-quickchart-complete:disabled,\n",
              "  .colab-df-quickchart-complete:disabled:hover {\n",
              "    background-color: var(--disabled-bg-color);\n",
              "    fill: var(--disabled-fill-color);\n",
              "    box-shadow: none;\n",
              "  }\n",
              "\n",
              "  .colab-df-spinner {\n",
              "    border: 2px solid var(--fill-color);\n",
              "    border-color: transparent;\n",
              "    border-bottom-color: var(--fill-color);\n",
              "    animation:\n",
              "      spin 1s steps(1) infinite;\n",
              "  }\n",
              "\n",
              "  @keyframes spin {\n",
              "    0% {\n",
              "      border-color: transparent;\n",
              "      border-bottom-color: var(--fill-color);\n",
              "      border-left-color: var(--fill-color);\n",
              "    }\n",
              "    20% {\n",
              "      border-color: transparent;\n",
              "      border-left-color: var(--fill-color);\n",
              "      border-top-color: var(--fill-color);\n",
              "    }\n",
              "    30% {\n",
              "      border-color: transparent;\n",
              "      border-left-color: var(--fill-color);\n",
              "      border-top-color: var(--fill-color);\n",
              "      border-right-color: var(--fill-color);\n",
              "    }\n",
              "    40% {\n",
              "      border-color: transparent;\n",
              "      border-right-color: var(--fill-color);\n",
              "      border-top-color: var(--fill-color);\n",
              "    }\n",
              "    60% {\n",
              "      border-color: transparent;\n",
              "      border-right-color: var(--fill-color);\n",
              "    }\n",
              "    80% {\n",
              "      border-color: transparent;\n",
              "      border-right-color: var(--fill-color);\n",
              "      border-bottom-color: var(--fill-color);\n",
              "    }\n",
              "    90% {\n",
              "      border-color: transparent;\n",
              "      border-bottom-color: var(--fill-color);\n",
              "    }\n",
              "  }\n",
              "</style>\n",
              "\n",
              "  <script>\n",
              "    async function quickchart(key) {\n",
              "      const quickchartButtonEl =\n",
              "        document.querySelector('#' + key + ' button');\n",
              "      quickchartButtonEl.disabled = true;  // To prevent multiple clicks.\n",
              "      quickchartButtonEl.classList.add('colab-df-spinner');\n",
              "      try {\n",
              "        const charts = await google.colab.kernel.invokeFunction(\n",
              "            'suggestCharts', [key], {});\n",
              "      } catch (error) {\n",
              "        console.error('Error during call to suggestCharts:', error);\n",
              "      }\n",
              "      quickchartButtonEl.classList.remove('colab-df-spinner');\n",
              "      quickchartButtonEl.classList.add('colab-df-quickchart-complete');\n",
              "    }\n",
              "    (() => {\n",
              "      let quickchartButtonEl =\n",
              "        document.querySelector('#df-1b7c31e4-6c83-404f-967e-10e9e3ce20f5 button');\n",
              "      quickchartButtonEl.style.display =\n",
              "        google.colab.kernel.accessAllowed ? 'block' : 'none';\n",
              "    })();\n",
              "  </script>\n",
              "</div>\n",
              "    </div>\n",
              "  </div>\n"
            ]
          },
          "metadata": {},
          "execution_count": 311
        }
      ]
    },
    {
      "cell_type": "code",
      "source": [
        "df_liquor[\"Date\"] = df_liquor[\"Date\"].map(lambda date: datetime.datetime.strptime(date, \"%Y-%m-%dT%H:%M:%S.%f\"))\n",
        "df_liquor[\"NearHoliday\"] = df_liquor[\"Date\"].map(near_holi)\n",
        "df_liquor[\"CostPerLiter\"] = df_liquor[\"sale_dollars\"] / df_liquor[\"sale_liters\"]\n",
        "df_liquor[\"Category\"] = df_liquor[\"category_name\"].map(alc_type_cat)\n",
        "df_liquor[\"CategoryNum\"] = df_liquor[\"Category\"].map(\n",
        "    {\n",
        "        \"VODKA\": 1,\n",
        "        \"WHISKY\": 2,\n",
        "        \"RUM\": 3,\n",
        "        \"GIN\": 4,\n",
        "        \"TEQUILA\": 5,\n",
        "        \"BRANDY\": 6,\n",
        "        \"SCHNAPPS\": 7,\n",
        "        \"SPIRITS\": 8,\n",
        "        \"OTHER\": 9\n",
        "      })\n",
        "df_colleges[\"Student Pop\"] = df_colleges[\"Enrollment\"].str.replace(r\"\\[.*\\]\", \"\", regex=True)\n",
        "df_colleges[\"Student Pop\"] = df_colleges[\"Student Pop\"].str.replace(\",\", \"\").astype(int)\n",
        "student_pop = pd.DataFrame(df_colleges.groupby(\"City\")[\"Student Pop\"].sum())\n",
        "college_count = pd.DataFrame(df_colleges.groupby(\"City\")[\"Institution\"].count())\n",
        "student_pop = student_pop.merge(college_count, how=\"left\", on=\"City\")\n",
        "student_pop[\"Size\"] = student_pop[\"Student Pop\"].apply(classify_college_size)\n",
        "student_pop\n",
        "# !!!Size is from 2012 data!!!\n",
        "df_liquor = df_liquor.merge(student_pop, how=\"left\", on=\"City\")"
      ],
      "metadata": {
        "id": "a3FIC3vEQNsS"
      },
      "execution_count": 312,
      "outputs": []
    },
    {
      "cell_type": "code",
      "source": [
        "df_liquor[\"Institution\"].fillna(0, inplace=True)\n",
        "df_liquor[\"Student Pop\"].fillna(0, inplace=True)\n",
        "df_liquor[\"Size\"].fillna(\"None\", inplace=True)"
      ],
      "metadata": {
        "id": "fZNFfo3lcQLJ"
      },
      "execution_count": 322,
      "outputs": []
    },
    {
      "cell_type": "code",
      "source": [
        "df_liquor[\"Institution\"].value_counts()"
      ],
      "metadata": {
        "colab": {
          "base_uri": "https://localhost:8080/"
        },
        "id": "jJJ2k5V-dZTa",
        "outputId": "4209e93a-33f4-4394-be7b-0dbf0a0f944f"
      },
      "execution_count": 325,
      "outputs": [
        {
          "output_type": "execute_result",
          "data": {
            "text/plain": [
              "0.0    24254\n",
              "1.0    12302\n",
              "4.0     7460\n",
              "3.0     2861\n",
              "2.0     2061\n",
              "5.0     1062\n",
              "Name: Institution, dtype: int64"
            ]
          },
          "metadata": {},
          "execution_count": 325
        }
      ]
    },
    {
      "cell_type": "markdown",
      "source": [
        "# Exploration"
      ],
      "metadata": {
        "id": "LYERm0Csk3xz"
      }
    },
    {
      "cell_type": "code",
      "source": [
        "df_liquor[\"Category\"].value_counts()"
      ],
      "metadata": {
        "colab": {
          "base_uri": "https://localhost:8080/"
        },
        "id": "YFvSrQl4Qu3Y",
        "outputId": "07f76a61-e66f-4696-b495-58686bfc800d"
      },
      "execution_count": 315,
      "outputs": [
        {
          "output_type": "execute_result",
          "data": {
            "text/plain": [
              "WHISKY      13436\n",
              "VODKA       11996\n",
              "OTHER        9291\n",
              "RUM          5079\n",
              "BRANDY       3041\n",
              "TEQUILA      2732\n",
              "SCHNAPPS     2213\n",
              "GIN          1494\n",
              "SPIRITS       718\n",
              "Name: Category, dtype: int64"
            ]
          },
          "metadata": {},
          "execution_count": 315
        }
      ]
    },
    {
      "cell_type": "code",
      "source": [
        "df_liquor[\"sale_dollars\"].describe()"
      ],
      "metadata": {
        "colab": {
          "base_uri": "https://localhost:8080/"
        },
        "id": "7EnGzZ2CiK7Z",
        "outputId": "7263fb2b-db71-4057-9622-c75990071ed8"
      },
      "execution_count": 316,
      "outputs": [
        {
          "output_type": "execute_result",
          "data": {
            "text/plain": [
              "count    50000.000000\n",
              "mean       176.148825\n",
              "std        691.419746\n",
              "min          1.350000\n",
              "25%         42.000000\n",
              "50%         90.000000\n",
              "75%        169.920000\n",
              "max      51300.000000\n",
              "Name: sale_dollars, dtype: float64"
            ]
          },
          "metadata": {},
          "execution_count": 316
        }
      ]
    },
    {
      "cell_type": "code",
      "source": [
        "df_liquor[df_liquor[\"sale_dollars\"] <= 0]"
      ],
      "metadata": {
        "colab": {
          "base_uri": "https://localhost:8080/",
          "height": 87
        },
        "id": "pIwFfZZ1iOig",
        "outputId": "5a23bfd3-c623-4744-c20f-f0a8ead11b8e"
      },
      "execution_count": 317,
      "outputs": [
        {
          "output_type": "execute_result",
          "data": {
            "text/plain": [
              "Empty DataFrame\n",
              "Columns: [Date, Month, DayOfWeek, StoreName, Zipcode, City, County, category_name, sale_liters, sale_dollars, NearHoliday, NearCollege, CostPerLiter, Category, CategoryNum, Student Pop, Institution, Size]\n",
              "Index: []"
            ],
            "text/html": [
              "\n",
              "  <div id=\"df-6e4aaeab-1d26-4052-87b9-b339a75eb6a1\" class=\"colab-df-container\">\n",
              "    <div>\n",
              "<style scoped>\n",
              "    .dataframe tbody tr th:only-of-type {\n",
              "        vertical-align: middle;\n",
              "    }\n",
              "\n",
              "    .dataframe tbody tr th {\n",
              "        vertical-align: top;\n",
              "    }\n",
              "\n",
              "    .dataframe thead th {\n",
              "        text-align: right;\n",
              "    }\n",
              "</style>\n",
              "<table border=\"1\" class=\"dataframe\">\n",
              "  <thead>\n",
              "    <tr style=\"text-align: right;\">\n",
              "      <th></th>\n",
              "      <th>Date</th>\n",
              "      <th>Month</th>\n",
              "      <th>DayOfWeek</th>\n",
              "      <th>StoreName</th>\n",
              "      <th>Zipcode</th>\n",
              "      <th>City</th>\n",
              "      <th>County</th>\n",
              "      <th>category_name</th>\n",
              "      <th>sale_liters</th>\n",
              "      <th>sale_dollars</th>\n",
              "      <th>NearHoliday</th>\n",
              "      <th>NearCollege</th>\n",
              "      <th>CostPerLiter</th>\n",
              "      <th>Category</th>\n",
              "      <th>CategoryNum</th>\n",
              "      <th>Student Pop</th>\n",
              "      <th>Institution</th>\n",
              "      <th>Size</th>\n",
              "    </tr>\n",
              "  </thead>\n",
              "  <tbody>\n",
              "  </tbody>\n",
              "</table>\n",
              "</div>\n",
              "    <div class=\"colab-df-buttons\">\n",
              "\n",
              "  <div class=\"colab-df-container\">\n",
              "    <button class=\"colab-df-convert\" onclick=\"convertToInteractive('df-6e4aaeab-1d26-4052-87b9-b339a75eb6a1')\"\n",
              "            title=\"Convert this dataframe to an interactive table.\"\n",
              "            style=\"display:none;\">\n",
              "\n",
              "  <svg xmlns=\"http://www.w3.org/2000/svg\" height=\"24px\" viewBox=\"0 -960 960 960\">\n",
              "    <path d=\"M120-120v-720h720v720H120Zm60-500h600v-160H180v160Zm220 220h160v-160H400v160Zm0 220h160v-160H400v160ZM180-400h160v-160H180v160Zm440 0h160v-160H620v160ZM180-180h160v-160H180v160Zm440 0h160v-160H620v160Z\"/>\n",
              "  </svg>\n",
              "    </button>\n",
              "\n",
              "  <style>\n",
              "    .colab-df-container {\n",
              "      display:flex;\n",
              "      gap: 12px;\n",
              "    }\n",
              "\n",
              "    .colab-df-convert {\n",
              "      background-color: #E8F0FE;\n",
              "      border: none;\n",
              "      border-radius: 50%;\n",
              "      cursor: pointer;\n",
              "      display: none;\n",
              "      fill: #1967D2;\n",
              "      height: 32px;\n",
              "      padding: 0 0 0 0;\n",
              "      width: 32px;\n",
              "    }\n",
              "\n",
              "    .colab-df-convert:hover {\n",
              "      background-color: #E2EBFA;\n",
              "      box-shadow: 0px 1px 2px rgba(60, 64, 67, 0.3), 0px 1px 3px 1px rgba(60, 64, 67, 0.15);\n",
              "      fill: #174EA6;\n",
              "    }\n",
              "\n",
              "    .colab-df-buttons div {\n",
              "      margin-bottom: 4px;\n",
              "    }\n",
              "\n",
              "    [theme=dark] .colab-df-convert {\n",
              "      background-color: #3B4455;\n",
              "      fill: #D2E3FC;\n",
              "    }\n",
              "\n",
              "    [theme=dark] .colab-df-convert:hover {\n",
              "      background-color: #434B5C;\n",
              "      box-shadow: 0px 1px 3px 1px rgba(0, 0, 0, 0.15);\n",
              "      filter: drop-shadow(0px 1px 2px rgba(0, 0, 0, 0.3));\n",
              "      fill: #FFFFFF;\n",
              "    }\n",
              "  </style>\n",
              "\n",
              "    <script>\n",
              "      const buttonEl =\n",
              "        document.querySelector('#df-6e4aaeab-1d26-4052-87b9-b339a75eb6a1 button.colab-df-convert');\n",
              "      buttonEl.style.display =\n",
              "        google.colab.kernel.accessAllowed ? 'block' : 'none';\n",
              "\n",
              "      async function convertToInteractive(key) {\n",
              "        const element = document.querySelector('#df-6e4aaeab-1d26-4052-87b9-b339a75eb6a1');\n",
              "        const dataTable =\n",
              "          await google.colab.kernel.invokeFunction('convertToInteractive',\n",
              "                                                    [key], {});\n",
              "        if (!dataTable) return;\n",
              "\n",
              "        const docLinkHtml = 'Like what you see? Visit the ' +\n",
              "          '<a target=\"_blank\" href=https://colab.research.google.com/notebooks/data_table.ipynb>data table notebook</a>'\n",
              "          + ' to learn more about interactive tables.';\n",
              "        element.innerHTML = '';\n",
              "        dataTable['output_type'] = 'display_data';\n",
              "        await google.colab.output.renderOutput(dataTable, element);\n",
              "        const docLink = document.createElement('div');\n",
              "        docLink.innerHTML = docLinkHtml;\n",
              "        element.appendChild(docLink);\n",
              "      }\n",
              "    </script>\n",
              "  </div>\n",
              "\n",
              "    </div>\n",
              "  </div>\n"
            ]
          },
          "metadata": {},
          "execution_count": 317
        }
      ]
    },
    {
      "cell_type": "code",
      "source": [
        "df_liquor[\"sale_liters\"].describe()"
      ],
      "metadata": {
        "colab": {
          "base_uri": "https://localhost:8080/"
        },
        "id": "M_0PPOsbiC88",
        "outputId": "e5eb9732-2f04-4294-a73a-04e303cb1079"
      },
      "execution_count": 318,
      "outputs": [
        {
          "output_type": "execute_result",
          "data": {
            "text/plain": [
              "count    50000.000000\n",
              "mean        10.342789\n",
              "std         55.770451\n",
              "min          0.020000\n",
              "25%          1.500000\n",
              "50%          4.800000\n",
              "75%         10.500000\n",
              "max       5670.000000\n",
              "Name: sale_liters, dtype: float64"
            ]
          },
          "metadata": {},
          "execution_count": 318
        }
      ]
    },
    {
      "cell_type": "code",
      "source": [
        "df_liquor[df_liquor[\"sale_liters\"] <= 0]"
      ],
      "metadata": {
        "colab": {
          "base_uri": "https://localhost:8080/",
          "height": 87
        },
        "id": "aBQTtuYniVZy",
        "outputId": "0e20734a-52ba-401d-8bf4-503ac9a37ac4"
      },
      "execution_count": 319,
      "outputs": [
        {
          "output_type": "execute_result",
          "data": {
            "text/plain": [
              "Empty DataFrame\n",
              "Columns: [Date, Month, DayOfWeek, StoreName, Zipcode, City, County, category_name, sale_liters, sale_dollars, NearHoliday, NearCollege, CostPerLiter, Category, CategoryNum, Student Pop, Institution, Size]\n",
              "Index: []"
            ],
            "text/html": [
              "\n",
              "  <div id=\"df-9ebdb3f9-8efa-40f0-a4aa-fe228bc28834\" class=\"colab-df-container\">\n",
              "    <div>\n",
              "<style scoped>\n",
              "    .dataframe tbody tr th:only-of-type {\n",
              "        vertical-align: middle;\n",
              "    }\n",
              "\n",
              "    .dataframe tbody tr th {\n",
              "        vertical-align: top;\n",
              "    }\n",
              "\n",
              "    .dataframe thead th {\n",
              "        text-align: right;\n",
              "    }\n",
              "</style>\n",
              "<table border=\"1\" class=\"dataframe\">\n",
              "  <thead>\n",
              "    <tr style=\"text-align: right;\">\n",
              "      <th></th>\n",
              "      <th>Date</th>\n",
              "      <th>Month</th>\n",
              "      <th>DayOfWeek</th>\n",
              "      <th>StoreName</th>\n",
              "      <th>Zipcode</th>\n",
              "      <th>City</th>\n",
              "      <th>County</th>\n",
              "      <th>category_name</th>\n",
              "      <th>sale_liters</th>\n",
              "      <th>sale_dollars</th>\n",
              "      <th>NearHoliday</th>\n",
              "      <th>NearCollege</th>\n",
              "      <th>CostPerLiter</th>\n",
              "      <th>Category</th>\n",
              "      <th>CategoryNum</th>\n",
              "      <th>Student Pop</th>\n",
              "      <th>Institution</th>\n",
              "      <th>Size</th>\n",
              "    </tr>\n",
              "  </thead>\n",
              "  <tbody>\n",
              "  </tbody>\n",
              "</table>\n",
              "</div>\n",
              "    <div class=\"colab-df-buttons\">\n",
              "\n",
              "  <div class=\"colab-df-container\">\n",
              "    <button class=\"colab-df-convert\" onclick=\"convertToInteractive('df-9ebdb3f9-8efa-40f0-a4aa-fe228bc28834')\"\n",
              "            title=\"Convert this dataframe to an interactive table.\"\n",
              "            style=\"display:none;\">\n",
              "\n",
              "  <svg xmlns=\"http://www.w3.org/2000/svg\" height=\"24px\" viewBox=\"0 -960 960 960\">\n",
              "    <path d=\"M120-120v-720h720v720H120Zm60-500h600v-160H180v160Zm220 220h160v-160H400v160Zm0 220h160v-160H400v160ZM180-400h160v-160H180v160Zm440 0h160v-160H620v160ZM180-180h160v-160H180v160Zm440 0h160v-160H620v160Z\"/>\n",
              "  </svg>\n",
              "    </button>\n",
              "\n",
              "  <style>\n",
              "    .colab-df-container {\n",
              "      display:flex;\n",
              "      gap: 12px;\n",
              "    }\n",
              "\n",
              "    .colab-df-convert {\n",
              "      background-color: #E8F0FE;\n",
              "      border: none;\n",
              "      border-radius: 50%;\n",
              "      cursor: pointer;\n",
              "      display: none;\n",
              "      fill: #1967D2;\n",
              "      height: 32px;\n",
              "      padding: 0 0 0 0;\n",
              "      width: 32px;\n",
              "    }\n",
              "\n",
              "    .colab-df-convert:hover {\n",
              "      background-color: #E2EBFA;\n",
              "      box-shadow: 0px 1px 2px rgba(60, 64, 67, 0.3), 0px 1px 3px 1px rgba(60, 64, 67, 0.15);\n",
              "      fill: #174EA6;\n",
              "    }\n",
              "\n",
              "    .colab-df-buttons div {\n",
              "      margin-bottom: 4px;\n",
              "    }\n",
              "\n",
              "    [theme=dark] .colab-df-convert {\n",
              "      background-color: #3B4455;\n",
              "      fill: #D2E3FC;\n",
              "    }\n",
              "\n",
              "    [theme=dark] .colab-df-convert:hover {\n",
              "      background-color: #434B5C;\n",
              "      box-shadow: 0px 1px 3px 1px rgba(0, 0, 0, 0.15);\n",
              "      filter: drop-shadow(0px 1px 2px rgba(0, 0, 0, 0.3));\n",
              "      fill: #FFFFFF;\n",
              "    }\n",
              "  </style>\n",
              "\n",
              "    <script>\n",
              "      const buttonEl =\n",
              "        document.querySelector('#df-9ebdb3f9-8efa-40f0-a4aa-fe228bc28834 button.colab-df-convert');\n",
              "      buttonEl.style.display =\n",
              "        google.colab.kernel.accessAllowed ? 'block' : 'none';\n",
              "\n",
              "      async function convertToInteractive(key) {\n",
              "        const element = document.querySelector('#df-9ebdb3f9-8efa-40f0-a4aa-fe228bc28834');\n",
              "        const dataTable =\n",
              "          await google.colab.kernel.invokeFunction('convertToInteractive',\n",
              "                                                    [key], {});\n",
              "        if (!dataTable) return;\n",
              "\n",
              "        const docLinkHtml = 'Like what you see? Visit the ' +\n",
              "          '<a target=\"_blank\" href=https://colab.research.google.com/notebooks/data_table.ipynb>data table notebook</a>'\n",
              "          + ' to learn more about interactive tables.';\n",
              "        element.innerHTML = '';\n",
              "        dataTable['output_type'] = 'display_data';\n",
              "        await google.colab.output.renderOutput(dataTable, element);\n",
              "        const docLink = document.createElement('div');\n",
              "        docLink.innerHTML = docLinkHtml;\n",
              "        element.appendChild(docLink);\n",
              "      }\n",
              "    </script>\n",
              "  </div>\n",
              "\n",
              "    </div>\n",
              "  </div>\n"
            ]
          },
          "metadata": {},
          "execution_count": 319
        }
      ]
    },
    {
      "cell_type": "code",
      "source": [
        "df_liquor[\"Size\"].value_counts(normalize=True)"
      ],
      "metadata": {
        "colab": {
          "base_uri": "https://localhost:8080/"
        },
        "id": "-h_J3GjKLAGr",
        "outputId": "b8fd2348-01cf-4867-f239-3531fa426bdd"
      },
      "execution_count": 326,
      "outputs": [
        {
          "output_type": "execute_result",
          "data": {
            "text/plain": [
              "None       0.48508\n",
              "Large      0.28372\n",
              "Midsize    0.12598\n",
              "Small      0.10522\n",
              "Name: Size, dtype: float64"
            ]
          },
          "metadata": {},
          "execution_count": 326
        }
      ]
    },
    {
      "cell_type": "code",
      "source": [
        "df_liquor[\"Institution\"].value_counts(normalize=True).plot.bar()"
      ],
      "metadata": {
        "colab": {
          "base_uri": "https://localhost:8080/",
          "height": 455
        },
        "id": "vScb01lLfOv2",
        "outputId": "2bc63415-adcd-4cba-a05d-fd73282ce109"
      },
      "execution_count": 328,
      "outputs": [
        {
          "output_type": "execute_result",
          "data": {
            "text/plain": [
              "<Axes: >"
            ]
          },
          "metadata": {},
          "execution_count": 328
        },
        {
          "output_type": "display_data",
          "data": {
            "text/plain": [
              "<Figure size 640x480 with 1 Axes>"
            ],
            "image/png": "[encoded data removed]"
          },
          "metadata": {}
        }
      ]
    },
    {
      "cell_type": "markdown",
      "source": [
        "# Save Data to CSV"
      ],
      "metadata": {
        "id": "XbVX--dOf-jd"
      }
    },
    {
      "cell_type": "code",
      "source": [
        "df_liquor.to_csv(\"client_b\", index=False)"
      ],
      "metadata": {
        "id": "0rc_9D_ogAqR"
      },
      "execution_count": 329,
      "outputs": []
    },
    {
      "cell_type": "markdown",
      "source": [
        "# Sources"
      ],
      "metadata": {
        "id": "NoI_OBR-RlZ1"
      }
    },
    {
      "cell_type": "markdown",
      "source": [
        "US Holidays: https://pypi.org/project/holidays/"
      ],
      "metadata": {
        "id": "uAfQBj47T5UE"
      }
    },
    {
      "cell_type": "code",
      "source": [
        "us_holidays = holidays.country_holidays('US', years=2012)\n",
        "for day in us_holidays.items():\n",
        "    print(day)"
      ],
      "metadata": {
        "colab": {
          "base_uri": "https://localhost:8080/"
        },
        "id": "lEVWOr99RnIX",
        "outputId": "b4c77c09-0748-4e8c-8a69-76f35a7b5d11"
      },
      "execution_count": 321,
      "outputs": [
        {
          "output_type": "stream",
          "name": "stdout",
          "text": [
            "(datetime.date(2012, 1, 16), 'Martin Luther King Jr. Day')\n",
            "(datetime.date(2012, 2, 20), \"Washington's Birthday\")\n",
            "(datetime.date(2012, 10, 8), 'Columbus Day')\n",
            "(datetime.date(2012, 1, 1), \"New Year's Day\")\n",
            "(datetime.date(2012, 1, 2), \"New Year's Day (Observed)\")\n",
            "(datetime.date(2012, 5, 28), 'Memorial Day')\n",
            "(datetime.date(2012, 7, 4), 'Independence Day')\n",
            "(datetime.date(2012, 9, 3), 'Labor Day')\n",
            "(datetime.date(2012, 11, 11), 'Veterans Day')\n",
            "(datetime.date(2012, 11, 12), 'Veterans Day (Observed)')\n",
            "(datetime.date(2012, 11, 22), 'Thanksgiving')\n",
            "(datetime.date(2012, 12, 25), 'Christmas Day')\n"
          ]
        }
      ]
    },
    {
      "cell_type": "markdown",
      "source": [
        "Iowa Colleges: https://en.wikipedia.org/wiki/List_of_colleges_and_universities_in_Iowa"
      ],
      "metadata": {
        "id": "DLGXk31IT2Xr"
      }
    }
  ]
}